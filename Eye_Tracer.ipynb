{
 "cells": [
  {
   "cell_type": "code",
   "execution_count": 25,
   "metadata": {},
   "outputs": [],
   "source": [
    "import cv2 as cv\n",
    "import numpy as np\n",
    "\n",
    "from cvzone.FaceDetectionModule import FaceDetector\n",
    "from cvzone.FaceMeshModule import FaceMeshDetector\n"
   ]
  },
  {
   "cell_type": "code",
   "execution_count": 26,
   "metadata": {},
   "outputs": [],
   "source": [
    "leftEye = [362, 382, 381, 380, 374, 373, 390, 249, 263, 466, 388, 387, 386, 385, 384, 398]\n"
   ]
  },
  {
   "cell_type": "code",
   "execution_count": 27,
   "metadata": {},
   "outputs": [],
   "source": [
    "\n",
    "detector = FaceDetector()\n",
    "meshDetector = FaceMeshDetector()\n",
    "\n",
    "cap = cv.VideoCapture('Human Face Stock Footage- Royalty-Free Video Clips.mp4')\n",
    "\n",
    "\n",
    "# face_img = cv.imread('./19407.JPG')\n",
    "# face_img = cv.resize(face_img, (300, 400))\n",
    "# img_copy = face_img.copy()\n",
    "\n"
   ]
  },
  {
   "cell_type": "code",
   "execution_count": 28,
   "metadata": {},
   "outputs": [],
   "source": [
    "\n",
    "while cap.isOpened() :\n",
    "    ret , frame = cap.read()\n",
    "    ret , frame2 = cap.read()\n",
    "\n",
    "    if ret == True:\n",
    "        face_img, bbox = detector.findFaces(frame)\n",
    "        face_img, faces = meshDetector.findFaceMesh(frame)\n",
    "\n",
    "        if bbox :\n",
    "            center = bbox[0]['center']\n",
    "            if faces:\n",
    "                leftEyePoints = np.array([[faces[0][p][0], faces[0][p][1]] for p in leftEye])\n",
    "                # cv.fillPoly(img_copy, pts=[leftEyePoints], color=255)\n",
    "                (ex,ey,ew,eh) = cv.boundingRect(leftEyePoints)\n",
    "                # cv.rectangle(img_copy, (ex,ey),(ex+ew, ey+eh), (255,255,255))\n",
    "\n",
    "                eye_roi = frame2[ey:ey+eh, ex:ex+ew]\n",
    "\n",
    "                eye_roi_gray = cv.cvtColor(eye_roi, cv.COLOR_BGR2GRAY)\n",
    "                _, iris = cv.threshold(eye_roi_gray , 40 , 255 , cv.THRESH_BINARY_INV)\n",
    "\n",
    "                contours, _ = cv.findContours(iris, cv.RETR_TREE, cv.CHAIN_APPROX_SIMPLE)\n",
    "                contours = sorted(contours, key=lambda x: cv.contourArea(x), reverse=True)\n",
    "\n",
    "                if contours:\n",
    "                    (ix,iy,iw,ih) = cv.boundingRect(contours[0])\n",
    "                    ix_center, iy_center = ix+int(iw/2) + ex, iy+int(ih/2) + ey\n",
    "                    cv.circle(frame2, (ix_center, iy_center), 3, (0,0,255), -1)\n",
    "\n",
    "                    ix_center_e, iy_center_e = ix+int(iw/2), iy+int(ih/2)\n",
    "\n",
    "                    \n",
    "                    offset = 10\n",
    "                    if ix_center_e > int(iw/2)+offset :\n",
    "                        text = 'right'\n",
    "                    elif ix_center_e < int(ih/2)-offset :\n",
    "                        text = 'left'\n",
    "                    else:\n",
    "                        text = 'center'\n",
    "\n",
    "                    cv.putText(frame2, text, (100, 100), cv.FONT_HERSHEY_PLAIN, 3, (0, 80, 0), 2)\n",
    "\n",
    "\n",
    "        cv.imshow('frame2', frame2)\n",
    "        if cv.waitKey(25) & 0xFF == ord('q'):\n",
    "            break\n",
    "    \n",
    "    else:\n",
    "        break\n",
    "\n",
    "cap.release()\n",
    "cv.destroyAllWindows()\n",
    "           \n",
    "        "
   ]
  },
  {
   "cell_type": "code",
   "execution_count": null,
   "metadata": {},
   "outputs": [],
   "source": []
  }
 ],
 "metadata": {
  "kernelspec": {
   "display_name": "Python 3",
   "language": "python",
   "name": "python3"
  },
  "language_info": {
   "codemirror_mode": {
    "name": "ipython",
    "version": 3
   },
   "file_extension": ".py",
   "mimetype": "text/x-python",
   "name": "python",
   "nbconvert_exporter": "python",
   "pygments_lexer": "ipython3",
   "version": "3.8.1"
  },
  "orig_nbformat": 4
 },
 "nbformat": 4,
 "nbformat_minor": 2
}
